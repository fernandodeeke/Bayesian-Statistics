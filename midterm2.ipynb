{
  "cells": [
    {
      "cell_type": "markdown",
      "metadata": {
        "id": "view-in-github",
        "colab_type": "text"
      },
      "source": [
        "<a href=\"https://colab.research.google.com/github/fernandodeeke/Bayesian-Statistics/blob/main/midterm2.ipynb\" target=\"_parent\"><img src=\"https://colab.research.google.com/assets/colab-badge.svg\" alt=\"Open In Colab\"/></a>"
      ]
    },
    {
      "cell_type": "markdown",
      "id": "8b302ac0",
      "metadata": {
        "id": "8b302ac0"
      },
      "source": [
        "<center><H2> Probability and Statistics</H2></center>\n",
        "<center><H4>Fernando Deeke Sasse<br></H4></center>\n",
        "<center><H3>Departamento de Matemática - CCT -  UDESC</H3></center>\n",
        "<center><H1>Solutions to the Midterm</H1></center>"
      ]
    },
    {
      "cell_type": "markdown",
      "id": "9e102c95",
      "metadata": {
        "id": "9e102c95"
      },
      "source": [
        "**1.** We have 5 dice in a box: 4, 6, 8, 12, 20-sided dice. Answer the following questions using\n",
        "Bayesian tables:\n",
        "\n",
        "(i) Someone picks a die at random, roll it and informs you the result is 5, without telling you\n",
        "which die it is. Find the probability that the die is 4, 6, 8, 12 or 20-sided.\n"
      ]
    },
    {
      "cell_type": "markdown",
      "id": "053e372f",
      "metadata": {
        "id": "053e372f"
      },
      "source": [
        "Here's a Bayes table that uses integers to represent the hypotheses:"
      ]
    },
    {
      "cell_type": "code",
      "execution_count": null,
      "id": "e341b621",
      "metadata": {
        "id": "e341b621"
      },
      "outputs": [],
      "source": [
        "import pandas as pd\n",
        "from fractions import Fraction"
      ]
    },
    {
      "cell_type": "code",
      "execution_count": null,
      "id": "ec061af5",
      "metadata": {
        "id": "ec061af5",
        "outputId": "738b3550-3051-4e3d-d205-0e5e8ac6496c"
      },
      "outputs": [
        {
          "data": {
            "text/html": [
              "<div>\n",
              "<style scoped>\n",
              "    .dataframe tbody tr th:only-of-type {\n",
              "        vertical-align: middle;\n",
              "    }\n",
              "\n",
              "    .dataframe tbody tr th {\n",
              "        vertical-align: top;\n",
              "    }\n",
              "\n",
              "    .dataframe thead th {\n",
              "        text-align: right;\n",
              "    }\n",
              "</style>\n",
              "<table border=\"1\" class=\"dataframe\">\n",
              "  <thead>\n",
              "    <tr style=\"text-align: right;\">\n",
              "      <th></th>\n",
              "      <th>prior</th>\n",
              "      <th>likelihood</th>\n",
              "    </tr>\n",
              "  </thead>\n",
              "  <tbody>\n",
              "    <tr>\n",
              "      <th>4</th>\n",
              "      <td>1/5</td>\n",
              "      <td>0</td>\n",
              "    </tr>\n",
              "    <tr>\n",
              "      <th>6</th>\n",
              "      <td>1/5</td>\n",
              "      <td>1/6</td>\n",
              "    </tr>\n",
              "    <tr>\n",
              "      <th>8</th>\n",
              "      <td>1/5</td>\n",
              "      <td>1/8</td>\n",
              "    </tr>\n",
              "    <tr>\n",
              "      <th>12</th>\n",
              "      <td>1/5</td>\n",
              "      <td>1/12</td>\n",
              "    </tr>\n",
              "    <tr>\n",
              "      <th>20</th>\n",
              "      <td>1/5</td>\n",
              "      <td>1/20</td>\n",
              "    </tr>\n",
              "  </tbody>\n",
              "</table>\n",
              "</div>"
            ],
            "text/plain": [
              "   prior likelihood\n",
              "4    1/5          0\n",
              "6    1/5        1/6\n",
              "8    1/5        1/8\n",
              "12   1/5       1/12\n",
              "20   1/5       1/20"
            ]
          },
          "execution_count": 135,
          "metadata": {},
          "output_type": "execute_result"
        }
      ],
      "source": [
        "table = pd.DataFrame(index=[4, 6, 8, 12, 20])\n",
        "table['prior'] = Fraction(1, 5)\n",
        "table['likelihood'] = 0, Fraction(1, 6), Fraction(1, 8), Fraction(1, 12), Fraction(1,20)\n",
        "table"
      ]
    },
    {
      "cell_type": "markdown",
      "id": "daebfe81",
      "metadata": {
        "id": "daebfe81"
      },
      "source": [
        "Once we have priors and likelhoods, the remaining steps are always the same, so we will put them in a function:"
      ]
    },
    {
      "cell_type": "code",
      "execution_count": null,
      "id": "2832769c",
      "metadata": {
        "id": "2832769c"
      },
      "outputs": [],
      "source": [
        "def update(table):\n",
        "    \"\"\"Compute the posterior probabilities.\"\"\"\n",
        "    table['unnorm'] = table['prior'] * table['likelihood']\n",
        "    prob_data = table['unnorm'].sum()\n",
        "    table['posterior'] = table['unnorm'] / prob_data\n",
        "    return prob_data"
      ]
    },
    {
      "cell_type": "code",
      "execution_count": null,
      "id": "72c66465",
      "metadata": {
        "id": "72c66465",
        "outputId": "dad47690-a9d3-477f-8503-16278c01cda5"
      },
      "outputs": [
        {
          "data": {
            "text/html": [
              "<div>\n",
              "<style scoped>\n",
              "    .dataframe tbody tr th:only-of-type {\n",
              "        vertical-align: middle;\n",
              "    }\n",
              "\n",
              "    .dataframe tbody tr th {\n",
              "        vertical-align: top;\n",
              "    }\n",
              "\n",
              "    .dataframe thead th {\n",
              "        text-align: right;\n",
              "    }\n",
              "</style>\n",
              "<table border=\"1\" class=\"dataframe\">\n",
              "  <thead>\n",
              "    <tr style=\"text-align: right;\">\n",
              "      <th></th>\n",
              "      <th>prior</th>\n",
              "      <th>likelihood</th>\n",
              "      <th>unnorm</th>\n",
              "      <th>posterior</th>\n",
              "    </tr>\n",
              "  </thead>\n",
              "  <tbody>\n",
              "    <tr>\n",
              "      <th>4</th>\n",
              "      <td>1/5</td>\n",
              "      <td>0</td>\n",
              "      <td>0</td>\n",
              "      <td>0</td>\n",
              "    </tr>\n",
              "    <tr>\n",
              "      <th>6</th>\n",
              "      <td>1/5</td>\n",
              "      <td>1/6</td>\n",
              "      <td>1/30</td>\n",
              "      <td>20/51</td>\n",
              "    </tr>\n",
              "    <tr>\n",
              "      <th>8</th>\n",
              "      <td>1/5</td>\n",
              "      <td>1/8</td>\n",
              "      <td>1/40</td>\n",
              "      <td>5/17</td>\n",
              "    </tr>\n",
              "    <tr>\n",
              "      <th>12</th>\n",
              "      <td>1/5</td>\n",
              "      <td>1/12</td>\n",
              "      <td>1/60</td>\n",
              "      <td>10/51</td>\n",
              "    </tr>\n",
              "    <tr>\n",
              "      <th>20</th>\n",
              "      <td>1/5</td>\n",
              "      <td>1/20</td>\n",
              "      <td>1/100</td>\n",
              "      <td>2/17</td>\n",
              "    </tr>\n",
              "  </tbody>\n",
              "</table>\n",
              "</div>"
            ],
            "text/plain": [
              "   prior likelihood unnorm posterior\n",
              "4    1/5          0      0         0\n",
              "6    1/5        1/6   1/30     20/51\n",
              "8    1/5        1/8   1/40      5/17\n",
              "12   1/5       1/12   1/60     10/51\n",
              "20   1/5       1/20  1/100      2/17"
            ]
          },
          "execution_count": 140,
          "metadata": {},
          "output_type": "execute_result"
        }
      ],
      "source": [
        "prob_data=update(table)\n",
        "table"
      ]
    },
    {
      "cell_type": "markdown",
      "id": "7892ca17-4f2b-48b1-9cf0-205e0f238182",
      "metadata": {
        "id": "7892ca17-4f2b-48b1-9cf0-205e0f238182"
      },
      "source": [
        "Let us rewrite the last column in float format:"
      ]
    },
    {
      "cell_type": "code",
      "execution_count": null,
      "id": "ccd82711-c4fe-4b2d-8b07-68486a125429",
      "metadata": {
        "id": "ccd82711-c4fe-4b2d-8b07-68486a125429",
        "outputId": "2d0a35cd-a581-4928-dbb4-a549d4307696"
      },
      "outputs": [
        {
          "data": {
            "text/html": [
              "<div>\n",
              "<style scoped>\n",
              "    .dataframe tbody tr th:only-of-type {\n",
              "        vertical-align: middle;\n",
              "    }\n",
              "\n",
              "    .dataframe tbody tr th {\n",
              "        vertical-align: top;\n",
              "    }\n",
              "\n",
              "    .dataframe thead th {\n",
              "        text-align: right;\n",
              "    }\n",
              "</style>\n",
              "<table border=\"1\" class=\"dataframe\">\n",
              "  <thead>\n",
              "    <tr style=\"text-align: right;\">\n",
              "      <th></th>\n",
              "      <th>prior</th>\n",
              "      <th>likelihood</th>\n",
              "      <th>unnorm</th>\n",
              "      <th>posterior</th>\n",
              "      <th>posterior_float</th>\n",
              "    </tr>\n",
              "  </thead>\n",
              "  <tbody>\n",
              "    <tr>\n",
              "      <th>4</th>\n",
              "      <td>1/5</td>\n",
              "      <td>0</td>\n",
              "      <td>0</td>\n",
              "      <td>0</td>\n",
              "      <td>0.0000</td>\n",
              "    </tr>\n",
              "    <tr>\n",
              "      <th>6</th>\n",
              "      <td>1/5</td>\n",
              "      <td>1/6</td>\n",
              "      <td>1/30</td>\n",
              "      <td>20/51</td>\n",
              "      <td>0.3922</td>\n",
              "    </tr>\n",
              "    <tr>\n",
              "      <th>8</th>\n",
              "      <td>1/5</td>\n",
              "      <td>1/8</td>\n",
              "      <td>1/40</td>\n",
              "      <td>5/17</td>\n",
              "      <td>0.2941</td>\n",
              "    </tr>\n",
              "    <tr>\n",
              "      <th>12</th>\n",
              "      <td>1/5</td>\n",
              "      <td>1/12</td>\n",
              "      <td>1/60</td>\n",
              "      <td>10/51</td>\n",
              "      <td>0.1961</td>\n",
              "    </tr>\n",
              "    <tr>\n",
              "      <th>20</th>\n",
              "      <td>1/5</td>\n",
              "      <td>1/20</td>\n",
              "      <td>1/100</td>\n",
              "      <td>2/17</td>\n",
              "      <td>0.1176</td>\n",
              "    </tr>\n",
              "  </tbody>\n",
              "</table>\n",
              "</div>"
            ],
            "text/plain": [
              "   prior likelihood unnorm posterior  posterior_float\n",
              "4    1/5          0      0         0           0.0000\n",
              "6    1/5        1/6   1/30     20/51           0.3922\n",
              "8    1/5        1/8   1/40      5/17           0.2941\n",
              "12   1/5       1/12   1/60     10/51           0.1961\n",
              "20   1/5       1/20  1/100      2/17           0.1176"
            ]
          },
          "execution_count": 143,
          "metadata": {},
          "output_type": "execute_result"
        }
      ],
      "source": [
        "table['posterior_float'] = table['posterior'].apply(lambda x: round(float(x), 4))\n",
        "table"
      ]
    },
    {
      "cell_type": "markdown",
      "id": "844f573d",
      "metadata": {
        "id": "844f573d"
      },
      "source": [
        "(ii) Suppose the same die is rolled again and the informed result is 6. Update the table."
      ]
    },
    {
      "cell_type": "code",
      "execution_count": null,
      "id": "d5fe68a1-6c95-4afa-97b4-685e5bef39d7",
      "metadata": {
        "id": "d5fe68a1-6c95-4afa-97b4-685e5bef39d7"
      },
      "outputs": [],
      "source": [
        "import pandas as pd\n",
        "from fractions import Fraction"
      ]
    },
    {
      "cell_type": "code",
      "execution_count": null,
      "id": "af8b127d",
      "metadata": {
        "id": "af8b127d",
        "outputId": "ebdefd05-2626-42ed-e60f-cdb6c699c545"
      },
      "outputs": [
        {
          "data": {
            "text/html": [
              "<div>\n",
              "<style scoped>\n",
              "    .dataframe tbody tr th:only-of-type {\n",
              "        vertical-align: middle;\n",
              "    }\n",
              "\n",
              "    .dataframe tbody tr th {\n",
              "        vertical-align: top;\n",
              "    }\n",
              "\n",
              "    .dataframe thead th {\n",
              "        text-align: right;\n",
              "    }\n",
              "</style>\n",
              "<table border=\"1\" class=\"dataframe\">\n",
              "  <thead>\n",
              "    <tr style=\"text-align: right;\">\n",
              "      <th></th>\n",
              "      <th>prior</th>\n",
              "      <th>likelihood</th>\n",
              "    </tr>\n",
              "  </thead>\n",
              "  <tbody>\n",
              "    <tr>\n",
              "      <th>4</th>\n",
              "      <td>0</td>\n",
              "      <td>0</td>\n",
              "    </tr>\n",
              "    <tr>\n",
              "      <th>6</th>\n",
              "      <td>20/51</td>\n",
              "      <td>1/6</td>\n",
              "    </tr>\n",
              "    <tr>\n",
              "      <th>8</th>\n",
              "      <td>5/17</td>\n",
              "      <td>1/8</td>\n",
              "    </tr>\n",
              "    <tr>\n",
              "      <th>12</th>\n",
              "      <td>10/51</td>\n",
              "      <td>1/12</td>\n",
              "    </tr>\n",
              "    <tr>\n",
              "      <th>20</th>\n",
              "      <td>2/17</td>\n",
              "      <td>1/20</td>\n",
              "    </tr>\n",
              "  </tbody>\n",
              "</table>\n",
              "</div>"
            ],
            "text/plain": [
              "    prior likelihood\n",
              "4       0          0\n",
              "6   20/51        1/6\n",
              "8    5/17        1/8\n",
              "12  10/51       1/12\n",
              "20   2/17       1/20"
            ]
          },
          "execution_count": 78,
          "metadata": {},
          "output_type": "execute_result"
        }
      ],
      "source": [
        "table2 = pd.DataFrame(index=[4, 6, 8, 12, 20])\n",
        "table2['prior'] = table['posterior']\n",
        "table2['likelihood'] = 0, Fraction(1, 6), Fraction(1, 8), Fraction(1, 12), Fraction(1,20)\n",
        "table2"
      ]
    },
    {
      "cell_type": "code",
      "execution_count": null,
      "id": "a607004a",
      "metadata": {
        "id": "a607004a",
        "outputId": "1d8aaaea-710d-424a-9db1-36cc63b5afdd"
      },
      "outputs": [
        {
          "data": {
            "text/html": [
              "<div>\n",
              "<style scoped>\n",
              "    .dataframe tbody tr th:only-of-type {\n",
              "        vertical-align: middle;\n",
              "    }\n",
              "\n",
              "    .dataframe tbody tr th {\n",
              "        vertical-align: top;\n",
              "    }\n",
              "\n",
              "    .dataframe thead th {\n",
              "        text-align: right;\n",
              "    }\n",
              "</style>\n",
              "<table border=\"1\" class=\"dataframe\">\n",
              "  <thead>\n",
              "    <tr style=\"text-align: right;\">\n",
              "      <th></th>\n",
              "      <th>prior</th>\n",
              "      <th>likelihood</th>\n",
              "      <th>unnorm</th>\n",
              "      <th>posterior</th>\n",
              "    </tr>\n",
              "  </thead>\n",
              "  <tbody>\n",
              "    <tr>\n",
              "      <th>4</th>\n",
              "      <td>0</td>\n",
              "      <td>0</td>\n",
              "      <td>0</td>\n",
              "      <td>0</td>\n",
              "    </tr>\n",
              "    <tr>\n",
              "      <th>6</th>\n",
              "      <td>20/51</td>\n",
              "      <td>1/6</td>\n",
              "      <td>10/153</td>\n",
              "      <td>400/761</td>\n",
              "    </tr>\n",
              "    <tr>\n",
              "      <th>8</th>\n",
              "      <td>5/17</td>\n",
              "      <td>1/8</td>\n",
              "      <td>5/136</td>\n",
              "      <td>225/761</td>\n",
              "    </tr>\n",
              "    <tr>\n",
              "      <th>12</th>\n",
              "      <td>10/51</td>\n",
              "      <td>1/12</td>\n",
              "      <td>5/306</td>\n",
              "      <td>100/761</td>\n",
              "    </tr>\n",
              "    <tr>\n",
              "      <th>20</th>\n",
              "      <td>2/17</td>\n",
              "      <td>1/20</td>\n",
              "      <td>1/170</td>\n",
              "      <td>36/761</td>\n",
              "    </tr>\n",
              "  </tbody>\n",
              "</table>\n",
              "</div>"
            ],
            "text/plain": [
              "    prior likelihood  unnorm posterior\n",
              "4       0          0       0         0\n",
              "6   20/51        1/6  10/153   400/761\n",
              "8    5/17        1/8   5/136   225/761\n",
              "12  10/51       1/12   5/306   100/761\n",
              "20   2/17       1/20   1/170    36/761"
            ]
          },
          "execution_count": 80,
          "metadata": {},
          "output_type": "execute_result"
        }
      ],
      "source": [
        "prob_data2=update(table2)\n",
        "table2"
      ]
    },
    {
      "cell_type": "markdown",
      "id": "41365de4",
      "metadata": {
        "id": "41365de4"
      },
      "source": [
        "Let us rewrite the last column in float format:"
      ]
    },
    {
      "cell_type": "code",
      "execution_count": null,
      "id": "e5164949",
      "metadata": {
        "id": "e5164949",
        "outputId": "5b6b4934-f8b3-4040-eeec-c731ddc9327a"
      },
      "outputs": [
        {
          "data": {
            "text/html": [
              "<div>\n",
              "<style scoped>\n",
              "    .dataframe tbody tr th:only-of-type {\n",
              "        vertical-align: middle;\n",
              "    }\n",
              "\n",
              "    .dataframe tbody tr th {\n",
              "        vertical-align: top;\n",
              "    }\n",
              "\n",
              "    .dataframe thead th {\n",
              "        text-align: right;\n",
              "    }\n",
              "</style>\n",
              "<table border=\"1\" class=\"dataframe\">\n",
              "  <thead>\n",
              "    <tr style=\"text-align: right;\">\n",
              "      <th></th>\n",
              "      <th>prior</th>\n",
              "      <th>likelihood</th>\n",
              "      <th>unnorm</th>\n",
              "      <th>posterior</th>\n",
              "      <th>posterior_float</th>\n",
              "    </tr>\n",
              "  </thead>\n",
              "  <tbody>\n",
              "    <tr>\n",
              "      <th>4</th>\n",
              "      <td>0</td>\n",
              "      <td>0</td>\n",
              "      <td>0</td>\n",
              "      <td>0</td>\n",
              "      <td>0.0000</td>\n",
              "    </tr>\n",
              "    <tr>\n",
              "      <th>6</th>\n",
              "      <td>20/51</td>\n",
              "      <td>1/6</td>\n",
              "      <td>10/153</td>\n",
              "      <td>400/761</td>\n",
              "      <td>0.5256</td>\n",
              "    </tr>\n",
              "    <tr>\n",
              "      <th>8</th>\n",
              "      <td>5/17</td>\n",
              "      <td>1/8</td>\n",
              "      <td>5/136</td>\n",
              "      <td>225/761</td>\n",
              "      <td>0.2957</td>\n",
              "    </tr>\n",
              "    <tr>\n",
              "      <th>12</th>\n",
              "      <td>10/51</td>\n",
              "      <td>1/12</td>\n",
              "      <td>5/306</td>\n",
              "      <td>100/761</td>\n",
              "      <td>0.1314</td>\n",
              "    </tr>\n",
              "    <tr>\n",
              "      <th>20</th>\n",
              "      <td>2/17</td>\n",
              "      <td>1/20</td>\n",
              "      <td>1/170</td>\n",
              "      <td>36/761</td>\n",
              "      <td>0.0473</td>\n",
              "    </tr>\n",
              "  </tbody>\n",
              "</table>\n",
              "</div>"
            ],
            "text/plain": [
              "    prior likelihood  unnorm posterior  posterior_float\n",
              "4       0          0       0         0           0.0000\n",
              "6   20/51        1/6  10/153   400/761           0.5256\n",
              "8    5/17        1/8   5/136   225/761           0.2957\n",
              "12  10/51       1/12   5/306   100/761           0.1314\n",
              "20   2/17       1/20   1/170    36/761           0.0473"
            ]
          },
          "execution_count": 83,
          "metadata": {},
          "output_type": "execute_result"
        }
      ],
      "source": [
        "table2['posterior_float'] = table2['posterior'].apply(lambda x: round(float(x), 4))\n",
        "table2"
      ]
    },
    {
      "cell_type": "markdown",
      "id": "a3ecd7f7-afe9-42d8-8510-a61c73952c0a",
      "metadata": {
        "id": "a3ecd7f7-afe9-42d8-8510-a61c73952c0a"
      },
      "source": [
        "### Another solution"
      ]
    },
    {
      "cell_type": "markdown",
      "id": "e9e9b777-1f7f-4e1f-b0d2-5885456c2b01",
      "metadata": {
        "id": "e9e9b777-1f7f-4e1f-b0d2-5885456c2b01"
      },
      "source": [
        "We can just multiply the likelihoods:"
      ]
    },
    {
      "cell_type": "code",
      "execution_count": null,
      "id": "0309b9b0-7a13-414c-b170-32b311a55606",
      "metadata": {
        "id": "0309b9b0-7a13-414c-b170-32b311a55606"
      },
      "outputs": [],
      "source": [
        "import pandas as pd\n",
        "from fractions import Fraction"
      ]
    },
    {
      "cell_type": "code",
      "execution_count": null,
      "id": "aa799e56-bbbe-4c74-97a6-4eff331a5dc4",
      "metadata": {
        "id": "aa799e56-bbbe-4c74-97a6-4eff331a5dc4",
        "outputId": "36c65cc6-a0fa-4718-b44f-75390792a9a9"
      },
      "outputs": [
        {
          "data": {
            "text/html": [
              "<div>\n",
              "<style scoped>\n",
              "    .dataframe tbody tr th:only-of-type {\n",
              "        vertical-align: middle;\n",
              "    }\n",
              "\n",
              "    .dataframe tbody tr th {\n",
              "        vertical-align: top;\n",
              "    }\n",
              "\n",
              "    .dataframe thead th {\n",
              "        text-align: right;\n",
              "    }\n",
              "</style>\n",
              "<table border=\"1\" class=\"dataframe\">\n",
              "  <thead>\n",
              "    <tr style=\"text-align: right;\">\n",
              "      <th></th>\n",
              "      <th>prior</th>\n",
              "      <th>likelihood1</th>\n",
              "      <th>likelihood2</th>\n",
              "      <th>likelihood</th>\n",
              "    </tr>\n",
              "  </thead>\n",
              "  <tbody>\n",
              "    <tr>\n",
              "      <th>4</th>\n",
              "      <td>1/5</td>\n",
              "      <td>0</td>\n",
              "      <td>0</td>\n",
              "      <td>0</td>\n",
              "    </tr>\n",
              "    <tr>\n",
              "      <th>6</th>\n",
              "      <td>1/5</td>\n",
              "      <td>1/6</td>\n",
              "      <td>1/6</td>\n",
              "      <td>1/36</td>\n",
              "    </tr>\n",
              "    <tr>\n",
              "      <th>8</th>\n",
              "      <td>1/5</td>\n",
              "      <td>1/8</td>\n",
              "      <td>1/8</td>\n",
              "      <td>1/64</td>\n",
              "    </tr>\n",
              "    <tr>\n",
              "      <th>12</th>\n",
              "      <td>1/5</td>\n",
              "      <td>1/12</td>\n",
              "      <td>1/12</td>\n",
              "      <td>1/144</td>\n",
              "    </tr>\n",
              "    <tr>\n",
              "      <th>20</th>\n",
              "      <td>1/5</td>\n",
              "      <td>1/20</td>\n",
              "      <td>1/20</td>\n",
              "      <td>1/400</td>\n",
              "    </tr>\n",
              "  </tbody>\n",
              "</table>\n",
              "</div>"
            ],
            "text/plain": [
              "   prior likelihood1 likelihood2 likelihood\n",
              "4    1/5           0           0          0\n",
              "6    1/5         1/6         1/6       1/36\n",
              "8    1/5         1/8         1/8       1/64\n",
              "12   1/5        1/12        1/12      1/144\n",
              "20   1/5        1/20        1/20      1/400"
            ]
          },
          "execution_count": 89,
          "metadata": {},
          "output_type": "execute_result"
        }
      ],
      "source": [
        "table = pd.DataFrame(index=[4, 6, 8, 12, 20])\n",
        "table['prior'] = Fraction(1, 5)\n",
        "table['likelihood1'] = 0, Fraction(1, 6), Fraction(1, 8), Fraction(1, 12), Fraction(1,20)\n",
        "table['likelihood2'] = 0, Fraction(1, 6), Fraction(1, 8), Fraction(1, 12), Fraction(1,20)\n",
        "table['likelihood'] = table['likelihood1'] * table['likelihood2']\n",
        "table"
      ]
    },
    {
      "cell_type": "code",
      "execution_count": null,
      "id": "577461df-d38f-4972-9c8c-0e2d6a1caab4",
      "metadata": {
        "id": "577461df-d38f-4972-9c8c-0e2d6a1caab4"
      },
      "outputs": [],
      "source": [
        "def update(table):\n",
        "    \"\"\"Compute the posterior probabilities.\"\"\"\n",
        "    table['unnorm'] = table['prior'] * table['likelihood']\n",
        "    prob_data = table['unnorm'].sum()\n",
        "    table['posterior'] = table['unnorm'] / prob_data\n",
        "    return prob_data"
      ]
    },
    {
      "cell_type": "code",
      "execution_count": null,
      "id": "0911d333-6ff9-4f26-9b09-0fe5397d14ab",
      "metadata": {
        "id": "0911d333-6ff9-4f26-9b09-0fe5397d14ab",
        "outputId": "2088452c-0dac-4643-eaf0-6564d80393ef"
      },
      "outputs": [
        {
          "data": {
            "text/html": [
              "<div>\n",
              "<style scoped>\n",
              "    .dataframe tbody tr th:only-of-type {\n",
              "        vertical-align: middle;\n",
              "    }\n",
              "\n",
              "    .dataframe tbody tr th {\n",
              "        vertical-align: top;\n",
              "    }\n",
              "\n",
              "    .dataframe thead th {\n",
              "        text-align: right;\n",
              "    }\n",
              "</style>\n",
              "<table border=\"1\" class=\"dataframe\">\n",
              "  <thead>\n",
              "    <tr style=\"text-align: right;\">\n",
              "      <th></th>\n",
              "      <th>prior</th>\n",
              "      <th>likelihood1</th>\n",
              "      <th>likelihood2</th>\n",
              "      <th>likelihood</th>\n",
              "      <th>unnorm</th>\n",
              "      <th>posterior</th>\n",
              "    </tr>\n",
              "  </thead>\n",
              "  <tbody>\n",
              "    <tr>\n",
              "      <th>4</th>\n",
              "      <td>1/5</td>\n",
              "      <td>0</td>\n",
              "      <td>0</td>\n",
              "      <td>0</td>\n",
              "      <td>0</td>\n",
              "      <td>0</td>\n",
              "    </tr>\n",
              "    <tr>\n",
              "      <th>6</th>\n",
              "      <td>1/5</td>\n",
              "      <td>1/6</td>\n",
              "      <td>1/6</td>\n",
              "      <td>1/36</td>\n",
              "      <td>1/180</td>\n",
              "      <td>400/761</td>\n",
              "    </tr>\n",
              "    <tr>\n",
              "      <th>8</th>\n",
              "      <td>1/5</td>\n",
              "      <td>1/8</td>\n",
              "      <td>1/8</td>\n",
              "      <td>1/64</td>\n",
              "      <td>1/320</td>\n",
              "      <td>225/761</td>\n",
              "    </tr>\n",
              "    <tr>\n",
              "      <th>12</th>\n",
              "      <td>1/5</td>\n",
              "      <td>1/12</td>\n",
              "      <td>1/12</td>\n",
              "      <td>1/144</td>\n",
              "      <td>1/720</td>\n",
              "      <td>100/761</td>\n",
              "    </tr>\n",
              "    <tr>\n",
              "      <th>20</th>\n",
              "      <td>1/5</td>\n",
              "      <td>1/20</td>\n",
              "      <td>1/20</td>\n",
              "      <td>1/400</td>\n",
              "      <td>1/2000</td>\n",
              "      <td>36/761</td>\n",
              "    </tr>\n",
              "  </tbody>\n",
              "</table>\n",
              "</div>"
            ],
            "text/plain": [
              "   prior likelihood1 likelihood2 likelihood  unnorm posterior\n",
              "4    1/5           0           0          0       0         0\n",
              "6    1/5         1/6         1/6       1/36   1/180   400/761\n",
              "8    1/5         1/8         1/8       1/64   1/320   225/761\n",
              "12   1/5        1/12        1/12      1/144   1/720   100/761\n",
              "20   1/5        1/20        1/20      1/400  1/2000    36/761"
            ]
          },
          "execution_count": 93,
          "metadata": {},
          "output_type": "execute_result"
        }
      ],
      "source": [
        "prob_data2=update(table)\n",
        "table"
      ]
    },
    {
      "cell_type": "code",
      "execution_count": null,
      "id": "395be03f-82d8-43e9-adea-6944eaa87d1b",
      "metadata": {
        "id": "395be03f-82d8-43e9-adea-6944eaa87d1b",
        "outputId": "fd332e5e-f662-4519-e95a-052a7f61faa6"
      },
      "outputs": [
        {
          "data": {
            "text/html": [
              "<div>\n",
              "<style scoped>\n",
              "    .dataframe tbody tr th:only-of-type {\n",
              "        vertical-align: middle;\n",
              "    }\n",
              "\n",
              "    .dataframe tbody tr th {\n",
              "        vertical-align: top;\n",
              "    }\n",
              "\n",
              "    .dataframe thead th {\n",
              "        text-align: right;\n",
              "    }\n",
              "</style>\n",
              "<table border=\"1\" class=\"dataframe\">\n",
              "  <thead>\n",
              "    <tr style=\"text-align: right;\">\n",
              "      <th></th>\n",
              "      <th>prior</th>\n",
              "      <th>likelihood1</th>\n",
              "      <th>likelihood2</th>\n",
              "      <th>likelihood</th>\n",
              "      <th>unnorm</th>\n",
              "      <th>posterior</th>\n",
              "      <th>posterior_float</th>\n",
              "    </tr>\n",
              "  </thead>\n",
              "  <tbody>\n",
              "    <tr>\n",
              "      <th>4</th>\n",
              "      <td>1/5</td>\n",
              "      <td>0</td>\n",
              "      <td>0</td>\n",
              "      <td>0</td>\n",
              "      <td>0</td>\n",
              "      <td>0</td>\n",
              "      <td>0.0000</td>\n",
              "    </tr>\n",
              "    <tr>\n",
              "      <th>6</th>\n",
              "      <td>1/5</td>\n",
              "      <td>1/6</td>\n",
              "      <td>1/6</td>\n",
              "      <td>1/36</td>\n",
              "      <td>1/180</td>\n",
              "      <td>400/761</td>\n",
              "      <td>0.5256</td>\n",
              "    </tr>\n",
              "    <tr>\n",
              "      <th>8</th>\n",
              "      <td>1/5</td>\n",
              "      <td>1/8</td>\n",
              "      <td>1/8</td>\n",
              "      <td>1/64</td>\n",
              "      <td>1/320</td>\n",
              "      <td>225/761</td>\n",
              "      <td>0.2957</td>\n",
              "    </tr>\n",
              "    <tr>\n",
              "      <th>12</th>\n",
              "      <td>1/5</td>\n",
              "      <td>1/12</td>\n",
              "      <td>1/12</td>\n",
              "      <td>1/144</td>\n",
              "      <td>1/720</td>\n",
              "      <td>100/761</td>\n",
              "      <td>0.1314</td>\n",
              "    </tr>\n",
              "    <tr>\n",
              "      <th>20</th>\n",
              "      <td>1/5</td>\n",
              "      <td>1/20</td>\n",
              "      <td>1/20</td>\n",
              "      <td>1/400</td>\n",
              "      <td>1/2000</td>\n",
              "      <td>36/761</td>\n",
              "      <td>0.0473</td>\n",
              "    </tr>\n",
              "  </tbody>\n",
              "</table>\n",
              "</div>"
            ],
            "text/plain": [
              "   prior likelihood1 likelihood2 likelihood  unnorm posterior  posterior_float\n",
              "4    1/5           0           0          0       0         0           0.0000\n",
              "6    1/5         1/6         1/6       1/36   1/180   400/761           0.5256\n",
              "8    1/5         1/8         1/8       1/64   1/320   225/761           0.2957\n",
              "12   1/5        1/12        1/12      1/144   1/720   100/761           0.1314\n",
              "20   1/5        1/20        1/20      1/400  1/2000    36/761           0.0473"
            ]
          },
          "execution_count": 95,
          "metadata": {},
          "output_type": "execute_result"
        }
      ],
      "source": [
        "table['posterior_float'] = table['posterior'].apply(lambda x: round(float(x), 4))\n",
        "table"
      ]
    },
    {
      "cell_type": "markdown",
      "id": "3271725b",
      "metadata": {
        "id": "3271725b"
      },
      "source": [
        "**2.** Ehlers-Danlos Syndrome (EDS) is a genetic connective tissue disorder that occurs in 1 of\n",
        "every 4,000 people in a given population. The primary symptoms of EDS can include hypermobile\n",
        "joints, stretchy skin, and chronic joint pain. About 75\\% of people with EDS experience\n",
        "at least one of these symptoms, while only 4\\% of people without EDS exhibit these symptoms.\n",
        "Build Bayesian tables and answer the questions:\n",
        "\n",
        "(i) If a person exhibits at least one of these symptoms, what are the odds that they have Ehlers-\n",
        "Danlos Syndrome? What is the Bayes factor of this data?"
      ]
    },
    {
      "cell_type": "code",
      "execution_count": null,
      "id": "5b4c2e17-d2dd-400b-8702-937ed2f1b129",
      "metadata": {
        "id": "5b4c2e17-d2dd-400b-8702-937ed2f1b129"
      },
      "outputs": [],
      "source": [
        "import pandas as pd"
      ]
    },
    {
      "cell_type": "code",
      "execution_count": null,
      "id": "d5d6febd-35be-4068-afbc-26bc01f88dec",
      "metadata": {
        "id": "d5d6febd-35be-4068-afbc-26bc01f88dec"
      },
      "outputs": [],
      "source": [
        "table = pd.DataFrame(index=['H', 'Hc'])\n",
        "table['prior'] =  1/4000 ,  1-1/4000\n",
        "table['likelihood'] = 0.75 ,  0.04"
      ]
    },
    {
      "cell_type": "code",
      "execution_count": null,
      "id": "32409075-3a27-4d15-998a-1fe839235e29",
      "metadata": {
        "id": "32409075-3a27-4d15-998a-1fe839235e29"
      },
      "outputs": [],
      "source": [
        "def update(table):\n",
        "    \"\"\"Compute the posterior probabilities.\"\"\"\n",
        "    table['unnorm'] = table['prior'] * table['likelihood']\n",
        "    prob_data = table['unnorm'].sum()\n",
        "    table['posterior'] = table['unnorm'] / prob_data\n",
        "    return prob_data"
      ]
    },
    {
      "cell_type": "code",
      "execution_count": null,
      "id": "c793856e-dd7b-4e7b-984a-c2f3f592d53d",
      "metadata": {
        "id": "c793856e-dd7b-4e7b-984a-c2f3f592d53d",
        "outputId": "c9374b9c-4663-4aa2-9535-ef5666a8fd49"
      },
      "outputs": [
        {
          "data": {
            "text/html": [
              "<div>\n",
              "<style scoped>\n",
              "    .dataframe tbody tr th:only-of-type {\n",
              "        vertical-align: middle;\n",
              "    }\n",
              "\n",
              "    .dataframe tbody tr th {\n",
              "        vertical-align: top;\n",
              "    }\n",
              "\n",
              "    .dataframe thead th {\n",
              "        text-align: right;\n",
              "    }\n",
              "</style>\n",
              "<table border=\"1\" class=\"dataframe\">\n",
              "  <thead>\n",
              "    <tr style=\"text-align: right;\">\n",
              "      <th></th>\n",
              "      <th>prior</th>\n",
              "      <th>likelihood</th>\n",
              "      <th>unnorm</th>\n",
              "      <th>posterior</th>\n",
              "    </tr>\n",
              "  </thead>\n",
              "  <tbody>\n",
              "    <tr>\n",
              "      <th>H</th>\n",
              "      <td>0.00025</td>\n",
              "      <td>0.75</td>\n",
              "      <td>0.000188</td>\n",
              "      <td>0.004667</td>\n",
              "    </tr>\n",
              "    <tr>\n",
              "      <th>Hc</th>\n",
              "      <td>0.99975</td>\n",
              "      <td>0.04</td>\n",
              "      <td>0.039990</td>\n",
              "      <td>0.995333</td>\n",
              "    </tr>\n",
              "  </tbody>\n",
              "</table>\n",
              "</div>"
            ],
            "text/plain": [
              "      prior  likelihood    unnorm  posterior\n",
              "H   0.00025        0.75  0.000188   0.004667\n",
              "Hc  0.99975        0.04  0.039990   0.995333"
            ]
          },
          "execution_count": 174,
          "metadata": {},
          "output_type": "execute_result"
        }
      ],
      "source": [
        "update(table)\n",
        "table"
      ]
    },
    {
      "cell_type": "markdown",
      "id": "8452ee8f-b6a1-469d-9e5d-47f739fdba14",
      "metadata": {
        "id": "8452ee8f-b6a1-469d-9e5d-47f739fdba14"
      },
      "source": [
        "Let us find the prior and posterior odds:"
      ]
    },
    {
      "cell_type": "code",
      "execution_count": null,
      "id": "0a6b54c3-aee9-4fdd-94ca-50cc0228cb57",
      "metadata": {
        "id": "0a6b54c3-aee9-4fdd-94ca-50cc0228cb57",
        "outputId": "c33c3c8c-bc0d-4439-cf68-59648cfdeb5b"
      },
      "outputs": [
        {
          "data": {
            "text/plain": [
              "0.0002500625156289072"
            ]
          },
          "execution_count": 177,
          "metadata": {},
          "output_type": "execute_result"
        }
      ],
      "source": [
        "prior_odds = table.loc['H','prior']/table.loc['Hc','prior']\n",
        "prior_odds"
      ]
    },
    {
      "cell_type": "code",
      "execution_count": null,
      "id": "8b24ba0b-770b-4fdc-b354-853034e4e27a",
      "metadata": {
        "id": "8b24ba0b-770b-4fdc-b354-853034e4e27a",
        "outputId": "17f5be56-e87e-4408-bbf2-de3a0c30759f"
      },
      "outputs": [
        {
          "data": {
            "text/plain": [
              "0.00468867216804201"
            ]
          },
          "execution_count": 179,
          "metadata": {},
          "output_type": "execute_result"
        }
      ],
      "source": [
        "posterior_odds = table.loc['H','posterior']/table.loc['Hc','posterior']\n",
        "posterior_odds"
      ]
    },
    {
      "cell_type": "markdown",
      "id": "6b1bca31-7446-4172-8588-8009c7541b1e",
      "metadata": {
        "id": "6b1bca31-7446-4172-8588-8009c7541b1e"
      },
      "source": [
        "The Bayes' factor is given by"
      ]
    },
    {
      "cell_type": "code",
      "execution_count": null,
      "id": "2704e4bf-2559-40e2-876d-b4b40edb0580",
      "metadata": {
        "id": "2704e4bf-2559-40e2-876d-b4b40edb0580",
        "outputId": "cb91d40b-7a0f-4a1b-e725-907bebff639f"
      },
      "outputs": [
        {
          "data": {
            "text/plain": [
              "18.75"
            ]
          },
          "execution_count": 183,
          "metadata": {},
          "output_type": "execute_result"
        }
      ],
      "source": [
        "BF1 = posterior_odds/prior_odds\n",
        "BF1"
      ]
    },
    {
      "cell_type": "markdown",
      "id": "297d9440-7281-412e-ad3a-ec08bd26a644",
      "metadata": {
        "id": "297d9440-7281-412e-ad3a-ec08bd26a644"
      },
      "source": [
        "(ii) Let’s add Chronic fatigue as a new symptom detected in that person to the Bayesian analysis.\n",
        "The incidence of Chronic Fatigue in people with EDS is 80\\% while while 10\\% of people of\n",
        "that population, without EDS, exhibit this symptom. Update the Bayesian table with this new\n",
        "evidence and find the new Bayes factor."
      ]
    },
    {
      "cell_type": "markdown",
      "id": "01a5c0a4-e28f-465f-979e-b576de7ec9de",
      "metadata": {
        "id": "01a5c0a4-e28f-465f-979e-b576de7ec9de"
      },
      "source": [
        "We just multiply the likelihoods:"
      ]
    },
    {
      "cell_type": "code",
      "execution_count": null,
      "id": "99d25d7a-42c4-419c-9064-298d38754c43",
      "metadata": {
        "id": "99d25d7a-42c4-419c-9064-298d38754c43",
        "outputId": "777aff13-fcb0-47fa-c78c-302d3647540b"
      },
      "outputs": [
        {
          "data": {
            "text/html": [
              "<div>\n",
              "<style scoped>\n",
              "    .dataframe tbody tr th:only-of-type {\n",
              "        vertical-align: middle;\n",
              "    }\n",
              "\n",
              "    .dataframe tbody tr th {\n",
              "        vertical-align: top;\n",
              "    }\n",
              "\n",
              "    .dataframe thead th {\n",
              "        text-align: right;\n",
              "    }\n",
              "</style>\n",
              "<table border=\"1\" class=\"dataframe\">\n",
              "  <thead>\n",
              "    <tr style=\"text-align: right;\">\n",
              "      <th></th>\n",
              "      <th>prior</th>\n",
              "      <th>likelihood1</th>\n",
              "      <th>likelihood2</th>\n",
              "      <th>likelihood</th>\n",
              "    </tr>\n",
              "  </thead>\n",
              "  <tbody>\n",
              "    <tr>\n",
              "      <th>H</th>\n",
              "      <td>0.0002</td>\n",
              "      <td>0.75</td>\n",
              "      <td>0.8</td>\n",
              "      <td>0.600</td>\n",
              "    </tr>\n",
              "    <tr>\n",
              "      <th>Hc</th>\n",
              "      <td>0.9998</td>\n",
              "      <td>0.04</td>\n",
              "      <td>0.1</td>\n",
              "      <td>0.004</td>\n",
              "    </tr>\n",
              "  </tbody>\n",
              "</table>\n",
              "</div>"
            ],
            "text/plain": [
              "     prior  likelihood1  likelihood2  likelihood\n",
              "H   0.0002         0.75          0.8       0.600\n",
              "Hc  0.9998         0.04          0.1       0.004"
            ]
          },
          "execution_count": 187,
          "metadata": {},
          "output_type": "execute_result"
        }
      ],
      "source": [
        "table = pd.DataFrame(index=['H', 'Hc'])\n",
        "table['prior'] =  1/5000 ,  1-1/5000\n",
        "table['likelihood1'] = 0.75 ,  0.04\n",
        "table['likelihood2'] = 0.8 ,  0.1\n",
        "table['likelihood'] = table['likelihood1'] * table['likelihood2']\n",
        "table"
      ]
    },
    {
      "cell_type": "code",
      "execution_count": null,
      "id": "de91eada-4119-40bd-9dde-b3ddc2e22a6a",
      "metadata": {
        "id": "de91eada-4119-40bd-9dde-b3ddc2e22a6a",
        "outputId": "38236cab-30cf-44a2-b846-d8ac300bd6bb"
      },
      "outputs": [
        {
          "data": {
            "text/html": [
              "<div>\n",
              "<style scoped>\n",
              "    .dataframe tbody tr th:only-of-type {\n",
              "        vertical-align: middle;\n",
              "    }\n",
              "\n",
              "    .dataframe tbody tr th {\n",
              "        vertical-align: top;\n",
              "    }\n",
              "\n",
              "    .dataframe thead th {\n",
              "        text-align: right;\n",
              "    }\n",
              "</style>\n",
              "<table border=\"1\" class=\"dataframe\">\n",
              "  <thead>\n",
              "    <tr style=\"text-align: right;\">\n",
              "      <th></th>\n",
              "      <th>prior</th>\n",
              "      <th>likelihood1</th>\n",
              "      <th>likelihood2</th>\n",
              "      <th>likelihood</th>\n",
              "      <th>unnorm</th>\n",
              "      <th>posterior</th>\n",
              "    </tr>\n",
              "  </thead>\n",
              "  <tbody>\n",
              "    <tr>\n",
              "      <th>H</th>\n",
              "      <td>0.0002</td>\n",
              "      <td>0.75</td>\n",
              "      <td>0.8</td>\n",
              "      <td>0.600</td>\n",
              "      <td>0.000120</td>\n",
              "      <td>0.029132</td>\n",
              "    </tr>\n",
              "    <tr>\n",
              "      <th>Hc</th>\n",
              "      <td>0.9998</td>\n",
              "      <td>0.04</td>\n",
              "      <td>0.1</td>\n",
              "      <td>0.004</td>\n",
              "      <td>0.003999</td>\n",
              "      <td>0.970868</td>\n",
              "    </tr>\n",
              "  </tbody>\n",
              "</table>\n",
              "</div>"
            ],
            "text/plain": [
              "     prior  likelihood1  likelihood2  likelihood    unnorm  posterior\n",
              "H   0.0002         0.75          0.8       0.600  0.000120   0.029132\n",
              "Hc  0.9998         0.04          0.1       0.004  0.003999   0.970868"
            ]
          },
          "execution_count": 189,
          "metadata": {},
          "output_type": "execute_result"
        }
      ],
      "source": [
        "update(table)\n",
        "table"
      ]
    },
    {
      "cell_type": "markdown",
      "id": "6318efcb-cbd5-4964-98b8-f8b2c200402b",
      "metadata": {
        "id": "6318efcb-cbd5-4964-98b8-f8b2c200402b"
      },
      "source": [
        "Let us again calculate the udated Bayes' factor:"
      ]
    },
    {
      "cell_type": "code",
      "execution_count": null,
      "id": "c49baf72-effb-4b4b-9e55-c4166c8925f4",
      "metadata": {
        "id": "c49baf72-effb-4b4b-9e55-c4166c8925f4",
        "outputId": "d34e92de-7170-4803-8b95-09ad2efd4d50"
      },
      "outputs": [
        {
          "data": {
            "text/plain": [
              "150.00000000000003"
            ]
          },
          "execution_count": 192,
          "metadata": {},
          "output_type": "execute_result"
        }
      ],
      "source": [
        "prior_odds = table.loc['H','prior']/table.loc['Hc','prior']\n",
        "posterior_odds = table.loc['H','posterior']/table.loc['Hc','posterior']\n",
        "BF2 = posterior_odds/prior_odds\n",
        "BF2"
      ]
    },
    {
      "cell_type": "markdown",
      "id": "f9f7074c-6fa7-41a2-9119-1addf1b7f7fe",
      "metadata": {
        "id": "f9f7074c-6fa7-41a2-9119-1addf1b7f7fe"
      },
      "source": [
        "(iii) Let’s add Gastrointestinal issues as an additional symptom to the Bayesian analysis. The incidence of Gastrointestinal Issues in people with EDS is 60\\% and the incidence of Gastrointestinal Issues in people without EDS is 15\\%. Again, update the Bayesian table with this new evidence and find the new Bayes factor."
      ]
    },
    {
      "cell_type": "code",
      "execution_count": null,
      "id": "264965c3-ea6d-4ed0-8ffb-90cb76ab7019",
      "metadata": {
        "id": "264965c3-ea6d-4ed0-8ffb-90cb76ab7019",
        "outputId": "4b9a7b46-1dc3-489e-ced4-d946492b3a2e"
      },
      "outputs": [
        {
          "data": {
            "text/html": [
              "<div>\n",
              "<style scoped>\n",
              "    .dataframe tbody tr th:only-of-type {\n",
              "        vertical-align: middle;\n",
              "    }\n",
              "\n",
              "    .dataframe tbody tr th {\n",
              "        vertical-align: top;\n",
              "    }\n",
              "\n",
              "    .dataframe thead th {\n",
              "        text-align: right;\n",
              "    }\n",
              "</style>\n",
              "<table border=\"1\" class=\"dataframe\">\n",
              "  <thead>\n",
              "    <tr style=\"text-align: right;\">\n",
              "      <th></th>\n",
              "      <th>prior</th>\n",
              "      <th>likelihood1</th>\n",
              "      <th>likelihood2</th>\n",
              "      <th>likelihood3</th>\n",
              "      <th>likelihood</th>\n",
              "    </tr>\n",
              "  </thead>\n",
              "  <tbody>\n",
              "    <tr>\n",
              "      <th>H</th>\n",
              "      <td>0.0002</td>\n",
              "      <td>0.75</td>\n",
              "      <td>0.8</td>\n",
              "      <td>0.60</td>\n",
              "      <td>0.3600</td>\n",
              "    </tr>\n",
              "    <tr>\n",
              "      <th>Hc</th>\n",
              "      <td>0.9998</td>\n",
              "      <td>0.04</td>\n",
              "      <td>0.1</td>\n",
              "      <td>0.15</td>\n",
              "      <td>0.0006</td>\n",
              "    </tr>\n",
              "  </tbody>\n",
              "</table>\n",
              "</div>"
            ],
            "text/plain": [
              "     prior  likelihood1  likelihood2  likelihood3  likelihood\n",
              "H   0.0002         0.75          0.8         0.60      0.3600\n",
              "Hc  0.9998         0.04          0.1         0.15      0.0006"
            ]
          },
          "execution_count": 194,
          "metadata": {},
          "output_type": "execute_result"
        }
      ],
      "source": [
        "table = pd.DataFrame(index=['H', 'Hc'])\n",
        "table['prior'] =  1/5000 ,  1-1/5000\n",
        "table['likelihood1'] = 0.75 ,  0.04\n",
        "table['likelihood2'] = 0.8 ,  0.1\n",
        "table['likelihood3'] = 0.6 ,  0.15\n",
        "table['likelihood'] = table['likelihood1'] * table['likelihood2']* table['likelihood3']\n",
        "table"
      ]
    },
    {
      "cell_type": "code",
      "execution_count": null,
      "id": "9f81c23c-a54a-401c-a4e3-394b1d15269e",
      "metadata": {
        "id": "9f81c23c-a54a-401c-a4e3-394b1d15269e",
        "outputId": "00df5be0-be72-46c7-bab9-02e5ec8bc958"
      },
      "outputs": [
        {
          "data": {
            "text/html": [
              "<div>\n",
              "<style scoped>\n",
              "    .dataframe tbody tr th:only-of-type {\n",
              "        vertical-align: middle;\n",
              "    }\n",
              "\n",
              "    .dataframe tbody tr th {\n",
              "        vertical-align: top;\n",
              "    }\n",
              "\n",
              "    .dataframe thead th {\n",
              "        text-align: right;\n",
              "    }\n",
              "</style>\n",
              "<table border=\"1\" class=\"dataframe\">\n",
              "  <thead>\n",
              "    <tr style=\"text-align: right;\">\n",
              "      <th></th>\n",
              "      <th>prior</th>\n",
              "      <th>likelihood1</th>\n",
              "      <th>likelihood2</th>\n",
              "      <th>likelihood3</th>\n",
              "      <th>likelihood</th>\n",
              "      <th>unnorm</th>\n",
              "      <th>posterior</th>\n",
              "    </tr>\n",
              "  </thead>\n",
              "  <tbody>\n",
              "    <tr>\n",
              "      <th>H</th>\n",
              "      <td>0.0002</td>\n",
              "      <td>0.75</td>\n",
              "      <td>0.8</td>\n",
              "      <td>0.60</td>\n",
              "      <td>0.3600</td>\n",
              "      <td>0.000072</td>\n",
              "      <td>0.107162</td>\n",
              "    </tr>\n",
              "    <tr>\n",
              "      <th>Hc</th>\n",
              "      <td>0.9998</td>\n",
              "      <td>0.04</td>\n",
              "      <td>0.1</td>\n",
              "      <td>0.15</td>\n",
              "      <td>0.0006</td>\n",
              "      <td>0.000600</td>\n",
              "      <td>0.892838</td>\n",
              "    </tr>\n",
              "  </tbody>\n",
              "</table>\n",
              "</div>"
            ],
            "text/plain": [
              "     prior  likelihood1  likelihood2  likelihood3  likelihood    unnorm  \\\n",
              "H   0.0002         0.75          0.8         0.60      0.3600  0.000072   \n",
              "Hc  0.9998         0.04          0.1         0.15      0.0006  0.000600   \n",
              "\n",
              "    posterior  \n",
              "H    0.107162  \n",
              "Hc   0.892838  "
            ]
          },
          "execution_count": 196,
          "metadata": {},
          "output_type": "execute_result"
        }
      ],
      "source": [
        "update(table)\n",
        "table"
      ]
    },
    {
      "cell_type": "code",
      "execution_count": null,
      "id": "3a424348-344d-4ecf-9a7d-4c7e87f67a6a",
      "metadata": {
        "id": "3a424348-344d-4ecf-9a7d-4c7e87f67a6a",
        "outputId": "b9e3b367-209b-41be-906f-b76c3f9d5ae5"
      },
      "outputs": [
        {
          "data": {
            "text/plain": [
              "600.0000000000001"
            ]
          },
          "execution_count": 198,
          "metadata": {},
          "output_type": "execute_result"
        }
      ],
      "source": [
        "prior_odds = table.loc['H','prior']/table.loc['Hc','prior']\n",
        "posterior_odds = table.loc['H','posterior']/table.loc['Hc','posterior']\n",
        "BF3 = posterior_odds/prior_odds\n",
        "BF3"
      ]
    },
    {
      "cell_type": "markdown",
      "id": "75945424-1c2e-46fe-af6e-ca0d7a3869b6",
      "metadata": {
        "id": "75945424-1c2e-46fe-af6e-ca0d7a3869b6"
      },
      "source": [
        "The three pieces of evidence together make a strong evidence. The odds that the patient has EDS has jumped by a factor of 416. The probability that the patient has the disease is now around 7.6\\%."
      ]
    }
  ],
  "metadata": {
    "kernelspec": {
      "display_name": "Python 3 (ipykernel)",
      "language": "python",
      "name": "python3"
    },
    "language_info": {
      "codemirror_mode": {
        "name": "ipython",
        "version": 3
      },
      "file_extension": ".py",
      "mimetype": "text/x-python",
      "name": "python",
      "nbconvert_exporter": "python",
      "pygments_lexer": "ipython3",
      "version": "3.12.4"
    },
    "colab": {
      "provenance": [],
      "include_colab_link": true
    }
  },
  "nbformat": 4,
  "nbformat_minor": 5
}