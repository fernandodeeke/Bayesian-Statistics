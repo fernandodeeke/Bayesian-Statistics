{
 "cells": [
  {
   "cell_type": "markdown",
   "id": "8b302ac0",
   "metadata": {},
   "source": [
    "<center><H2> Probability and Statistics</H2></center>\n",
    "<center><H4>Fernando Deeke Sasse<br></H4></center>\n",
    "<center><H3>Departamento de Matemática - CCT -  UDESC</H3></center>\n",
    "<center><H1>Solutions to Exercises</H1></center>"
   ]
  },
  {
   "cell_type": "markdown",
   "id": "9e102c95",
   "metadata": {},
   "source": [
    "**1.** We have 4 dice in a box: 4, 6, 8, 12-sided dice. Answer the following questions using\n",
    "Bayesian tables:\n",
    "\n",
    "(i) Someone picks a die at random, roll it and informs you the result is 5, without telling you\n",
    "which die it is. Find the probability that the die is 4, 6, 8 or 12-sided.\n"
   ]
  },
  {
   "cell_type": "markdown",
   "id": "053e372f",
   "metadata": {},
   "source": [
    "Here's a Bayes table that uses integers to represent the hypotheses:"
   ]
  },
  {
   "cell_type": "code",
   "execution_count": 27,
   "id": "e341b621",
   "metadata": {},
   "outputs": [],
   "source": [
    "import pandas as pd\n",
    "from fractions import Fraction"
   ]
  },
  {
   "cell_type": "code",
   "execution_count": 29,
   "id": "ec061af5",
   "metadata": {},
   "outputs": [
    {
     "data": {
      "text/html": [
       "<div>\n",
       "<style scoped>\n",
       "    .dataframe tbody tr th:only-of-type {\n",
       "        vertical-align: middle;\n",
       "    }\n",
       "\n",
       "    .dataframe tbody tr th {\n",
       "        vertical-align: top;\n",
       "    }\n",
       "\n",
       "    .dataframe thead th {\n",
       "        text-align: right;\n",
       "    }\n",
       "</style>\n",
       "<table border=\"1\" class=\"dataframe\">\n",
       "  <thead>\n",
       "    <tr style=\"text-align: right;\">\n",
       "      <th></th>\n",
       "      <th>prior</th>\n",
       "      <th>likelihood</th>\n",
       "    </tr>\n",
       "  </thead>\n",
       "  <tbody>\n",
       "    <tr>\n",
       "      <th>4</th>\n",
       "      <td>1/4</td>\n",
       "      <td>0</td>\n",
       "    </tr>\n",
       "    <tr>\n",
       "      <th>6</th>\n",
       "      <td>1/4</td>\n",
       "      <td>1/6</td>\n",
       "    </tr>\n",
       "    <tr>\n",
       "      <th>8</th>\n",
       "      <td>1/4</td>\n",
       "      <td>1/8</td>\n",
       "    </tr>\n",
       "    <tr>\n",
       "      <th>12</th>\n",
       "      <td>1/4</td>\n",
       "      <td>1/12</td>\n",
       "    </tr>\n",
       "  </tbody>\n",
       "</table>\n",
       "</div>"
      ],
      "text/plain": [
       "   prior likelihood\n",
       "4    1/4          0\n",
       "6    1/4        1/6\n",
       "8    1/4        1/8\n",
       "12   1/4       1/12"
      ]
     },
     "execution_count": 29,
     "metadata": {},
     "output_type": "execute_result"
    }
   ],
   "source": [
    "table = pd.DataFrame(index=[4, 6, 8, 12])\n",
    "table['prior'] = Fraction(1, 4)\n",
    "table['likelihood'] = 0, Fraction(1, 6), Fraction(1, 8), Fraction(1, 12)\n",
    "table"
   ]
  },
  {
   "cell_type": "markdown",
   "id": "daebfe81",
   "metadata": {},
   "source": [
    "Once we have priors and likelhoods, the remaining steps are always the same, so we will put them in a function:"
   ]
  },
  {
   "cell_type": "code",
   "execution_count": 32,
   "id": "2832769c",
   "metadata": {},
   "outputs": [],
   "source": [
    "def update(table):\n",
    "    \"\"\"Compute the posterior probabilities.\"\"\"\n",
    "    table['unnorm'] = table['prior'] * table['likelihood']\n",
    "    prob_data = table['unnorm'].sum()\n",
    "    table['posterior'] = table['unnorm'] / prob_data\n",
    "    return prob_data"
   ]
  },
  {
   "cell_type": "code",
   "execution_count": 34,
   "id": "72c66465",
   "metadata": {},
   "outputs": [
    {
     "data": {
      "text/html": [
       "<div>\n",
       "<style scoped>\n",
       "    .dataframe tbody tr th:only-of-type {\n",
       "        vertical-align: middle;\n",
       "    }\n",
       "\n",
       "    .dataframe tbody tr th {\n",
       "        vertical-align: top;\n",
       "    }\n",
       "\n",
       "    .dataframe thead th {\n",
       "        text-align: right;\n",
       "    }\n",
       "</style>\n",
       "<table border=\"1\" class=\"dataframe\">\n",
       "  <thead>\n",
       "    <tr style=\"text-align: right;\">\n",
       "      <th></th>\n",
       "      <th>prior</th>\n",
       "      <th>likelihood</th>\n",
       "      <th>unnorm</th>\n",
       "      <th>posterior</th>\n",
       "    </tr>\n",
       "  </thead>\n",
       "  <tbody>\n",
       "    <tr>\n",
       "      <th>4</th>\n",
       "      <td>1/4</td>\n",
       "      <td>0</td>\n",
       "      <td>0</td>\n",
       "      <td>0</td>\n",
       "    </tr>\n",
       "    <tr>\n",
       "      <th>6</th>\n",
       "      <td>1/4</td>\n",
       "      <td>1/6</td>\n",
       "      <td>1/24</td>\n",
       "      <td>4/9</td>\n",
       "    </tr>\n",
       "    <tr>\n",
       "      <th>8</th>\n",
       "      <td>1/4</td>\n",
       "      <td>1/8</td>\n",
       "      <td>1/32</td>\n",
       "      <td>1/3</td>\n",
       "    </tr>\n",
       "    <tr>\n",
       "      <th>12</th>\n",
       "      <td>1/4</td>\n",
       "      <td>1/12</td>\n",
       "      <td>1/48</td>\n",
       "      <td>2/9</td>\n",
       "    </tr>\n",
       "  </tbody>\n",
       "</table>\n",
       "</div>"
      ],
      "text/plain": [
       "   prior likelihood unnorm posterior\n",
       "4    1/4          0      0         0\n",
       "6    1/4        1/6   1/24       4/9\n",
       "8    1/4        1/8   1/32       1/3\n",
       "12   1/4       1/12   1/48       2/9"
      ]
     },
     "execution_count": 34,
     "metadata": {},
     "output_type": "execute_result"
    }
   ],
   "source": [
    "prob_data=update(table)\n",
    "table"
   ]
  },
  {
   "cell_type": "markdown",
   "id": "844f573d",
   "metadata": {},
   "source": [
    "(ii) Suppose the same die is rolled again and the informed result is 6. Update the table."
   ]
  },
  {
   "cell_type": "code",
   "execution_count": 37,
   "id": "d5fe68a1-6c95-4afa-97b4-685e5bef39d7",
   "metadata": {},
   "outputs": [],
   "source": [
    "import pandas as pd\n",
    "from fractions import Fraction"
   ]
  },
  {
   "cell_type": "code",
   "execution_count": 39,
   "id": "af8b127d",
   "metadata": {},
   "outputs": [
    {
     "data": {
      "text/html": [
       "<div>\n",
       "<style scoped>\n",
       "    .dataframe tbody tr th:only-of-type {\n",
       "        vertical-align: middle;\n",
       "    }\n",
       "\n",
       "    .dataframe tbody tr th {\n",
       "        vertical-align: top;\n",
       "    }\n",
       "\n",
       "    .dataframe thead th {\n",
       "        text-align: right;\n",
       "    }\n",
       "</style>\n",
       "<table border=\"1\" class=\"dataframe\">\n",
       "  <thead>\n",
       "    <tr style=\"text-align: right;\">\n",
       "      <th></th>\n",
       "      <th>prior</th>\n",
       "      <th>likelihood</th>\n",
       "    </tr>\n",
       "  </thead>\n",
       "  <tbody>\n",
       "    <tr>\n",
       "      <th>4</th>\n",
       "      <td>0</td>\n",
       "      <td>0</td>\n",
       "    </tr>\n",
       "    <tr>\n",
       "      <th>6</th>\n",
       "      <td>4/9</td>\n",
       "      <td>1/6</td>\n",
       "    </tr>\n",
       "    <tr>\n",
       "      <th>8</th>\n",
       "      <td>1/3</td>\n",
       "      <td>1/8</td>\n",
       "    </tr>\n",
       "    <tr>\n",
       "      <th>12</th>\n",
       "      <td>2/9</td>\n",
       "      <td>1/12</td>\n",
       "    </tr>\n",
       "  </tbody>\n",
       "</table>\n",
       "</div>"
      ],
      "text/plain": [
       "   prior likelihood\n",
       "4      0          0\n",
       "6    4/9        1/6\n",
       "8    1/3        1/8\n",
       "12   2/9       1/12"
      ]
     },
     "execution_count": 39,
     "metadata": {},
     "output_type": "execute_result"
    }
   ],
   "source": [
    "table2 = pd.DataFrame(index=[4, 6, 8, 12])\n",
    "table2['prior'] = table['posterior']\n",
    "table2['likelihood'] = 0, Fraction(1, 6), Fraction(1, 8), Fraction(1, 12)\n",
    "table2"
   ]
  },
  {
   "cell_type": "code",
   "execution_count": 9,
   "id": "a607004a",
   "metadata": {},
   "outputs": [
    {
     "data": {
      "text/html": [
       "<div>\n",
       "<style scoped>\n",
       "    .dataframe tbody tr th:only-of-type {\n",
       "        vertical-align: middle;\n",
       "    }\n",
       "\n",
       "    .dataframe tbody tr th {\n",
       "        vertical-align: top;\n",
       "    }\n",
       "\n",
       "    .dataframe thead th {\n",
       "        text-align: right;\n",
       "    }\n",
       "</style>\n",
       "<table border=\"1\" class=\"dataframe\">\n",
       "  <thead>\n",
       "    <tr style=\"text-align: right;\">\n",
       "      <th></th>\n",
       "      <th>prior</th>\n",
       "      <th>likelihood</th>\n",
       "      <th>unnorm</th>\n",
       "      <th>posterior</th>\n",
       "    </tr>\n",
       "  </thead>\n",
       "  <tbody>\n",
       "    <tr>\n",
       "      <th>4</th>\n",
       "      <td>0</td>\n",
       "      <td>0</td>\n",
       "      <td>0</td>\n",
       "      <td>0</td>\n",
       "    </tr>\n",
       "    <tr>\n",
       "      <th>6</th>\n",
       "      <td>4/9</td>\n",
       "      <td>1/6</td>\n",
       "      <td>2/27</td>\n",
       "      <td>16/29</td>\n",
       "    </tr>\n",
       "    <tr>\n",
       "      <th>8</th>\n",
       "      <td>1/3</td>\n",
       "      <td>1/8</td>\n",
       "      <td>1/24</td>\n",
       "      <td>9/29</td>\n",
       "    </tr>\n",
       "    <tr>\n",
       "      <th>12</th>\n",
       "      <td>2/9</td>\n",
       "      <td>1/12</td>\n",
       "      <td>1/54</td>\n",
       "      <td>4/29</td>\n",
       "    </tr>\n",
       "  </tbody>\n",
       "</table>\n",
       "</div>"
      ],
      "text/plain": [
       "   prior likelihood unnorm posterior\n",
       "4      0          0      0         0\n",
       "6    4/9        1/6   2/27     16/29\n",
       "8    1/3        1/8   1/24      9/29\n",
       "12   2/9       1/12   1/54      4/29"
      ]
     },
     "execution_count": 9,
     "metadata": {},
     "output_type": "execute_result"
    }
   ],
   "source": [
    "prob_data2=update(table2)\n",
    "table2"
   ]
  },
  {
   "cell_type": "markdown",
   "id": "41365de4",
   "metadata": {},
   "source": [
    "Let us rewrite the last column in float format:"
   ]
  },
  {
   "cell_type": "code",
   "execution_count": 14,
   "id": "e5164949",
   "metadata": {},
   "outputs": [
    {
     "data": {
      "text/html": [
       "<div>\n",
       "<style scoped>\n",
       "    .dataframe tbody tr th:only-of-type {\n",
       "        vertical-align: middle;\n",
       "    }\n",
       "\n",
       "    .dataframe tbody tr th {\n",
       "        vertical-align: top;\n",
       "    }\n",
       "\n",
       "    .dataframe thead th {\n",
       "        text-align: right;\n",
       "    }\n",
       "</style>\n",
       "<table border=\"1\" class=\"dataframe\">\n",
       "  <thead>\n",
       "    <tr style=\"text-align: right;\">\n",
       "      <th></th>\n",
       "      <th>prior</th>\n",
       "      <th>likelihood</th>\n",
       "      <th>unnorm</th>\n",
       "      <th>posterior</th>\n",
       "      <th>posterior_float</th>\n",
       "    </tr>\n",
       "  </thead>\n",
       "  <tbody>\n",
       "    <tr>\n",
       "      <th>4</th>\n",
       "      <td>0</td>\n",
       "      <td>0</td>\n",
       "      <td>0</td>\n",
       "      <td>0</td>\n",
       "      <td>0.0000</td>\n",
       "    </tr>\n",
       "    <tr>\n",
       "      <th>6</th>\n",
       "      <td>4/9</td>\n",
       "      <td>1/6</td>\n",
       "      <td>2/27</td>\n",
       "      <td>16/29</td>\n",
       "      <td>0.5517</td>\n",
       "    </tr>\n",
       "    <tr>\n",
       "      <th>8</th>\n",
       "      <td>1/3</td>\n",
       "      <td>1/8</td>\n",
       "      <td>1/24</td>\n",
       "      <td>9/29</td>\n",
       "      <td>0.3103</td>\n",
       "    </tr>\n",
       "    <tr>\n",
       "      <th>12</th>\n",
       "      <td>2/9</td>\n",
       "      <td>1/12</td>\n",
       "      <td>1/54</td>\n",
       "      <td>4/29</td>\n",
       "      <td>0.1379</td>\n",
       "    </tr>\n",
       "  </tbody>\n",
       "</table>\n",
       "</div>"
      ],
      "text/plain": [
       "   prior likelihood unnorm posterior  posterior_float\n",
       "4      0          0      0         0           0.0000\n",
       "6    4/9        1/6   2/27     16/29           0.5517\n",
       "8    1/3        1/8   1/24      9/29           0.3103\n",
       "12   2/9       1/12   1/54      4/29           0.1379"
      ]
     },
     "execution_count": 14,
     "metadata": {},
     "output_type": "execute_result"
    }
   ],
   "source": [
    "table2['posterior_float'] = table2['posterior'].apply(lambda x: round(float(x), 4))\n",
    "table2"
   ]
  },
  {
   "cell_type": "markdown",
   "id": "a3ecd7f7-afe9-42d8-8510-a61c73952c0a",
   "metadata": {},
   "source": [
    "### Another solution"
   ]
  },
  {
   "cell_type": "markdown",
   "id": "e9e9b777-1f7f-4e1f-b0d2-5885456c2b01",
   "metadata": {},
   "source": [
    "We can just multiply the likelihoods:"
   ]
  },
  {
   "cell_type": "code",
   "execution_count": 41,
   "id": "0309b9b0-7a13-414c-b170-32b311a55606",
   "metadata": {},
   "outputs": [],
   "source": [
    "import pandas as pd\n",
    "from fractions import Fraction"
   ]
  },
  {
   "cell_type": "code",
   "execution_count": 45,
   "id": "aa799e56-bbbe-4c74-97a6-4eff331a5dc4",
   "metadata": {},
   "outputs": [
    {
     "data": {
      "text/html": [
       "<div>\n",
       "<style scoped>\n",
       "    .dataframe tbody tr th:only-of-type {\n",
       "        vertical-align: middle;\n",
       "    }\n",
       "\n",
       "    .dataframe tbody tr th {\n",
       "        vertical-align: top;\n",
       "    }\n",
       "\n",
       "    .dataframe thead th {\n",
       "        text-align: right;\n",
       "    }\n",
       "</style>\n",
       "<table border=\"1\" class=\"dataframe\">\n",
       "  <thead>\n",
       "    <tr style=\"text-align: right;\">\n",
       "      <th></th>\n",
       "      <th>prior</th>\n",
       "      <th>likelihood1</th>\n",
       "      <th>likelihood2</th>\n",
       "      <th>likelihood</th>\n",
       "    </tr>\n",
       "  </thead>\n",
       "  <tbody>\n",
       "    <tr>\n",
       "      <th>4</th>\n",
       "      <td>1/4</td>\n",
       "      <td>0</td>\n",
       "      <td>0</td>\n",
       "      <td>0</td>\n",
       "    </tr>\n",
       "    <tr>\n",
       "      <th>6</th>\n",
       "      <td>1/4</td>\n",
       "      <td>1/6</td>\n",
       "      <td>1/6</td>\n",
       "      <td>1/36</td>\n",
       "    </tr>\n",
       "    <tr>\n",
       "      <th>8</th>\n",
       "      <td>1/4</td>\n",
       "      <td>1/8</td>\n",
       "      <td>1/8</td>\n",
       "      <td>1/64</td>\n",
       "    </tr>\n",
       "    <tr>\n",
       "      <th>12</th>\n",
       "      <td>1/4</td>\n",
       "      <td>1/12</td>\n",
       "      <td>1/12</td>\n",
       "      <td>1/144</td>\n",
       "    </tr>\n",
       "  </tbody>\n",
       "</table>\n",
       "</div>"
      ],
      "text/plain": [
       "   prior likelihood1 likelihood2 likelihood\n",
       "4    1/4           0           0          0\n",
       "6    1/4         1/6         1/6       1/36\n",
       "8    1/4         1/8         1/8       1/64\n",
       "12   1/4        1/12        1/12      1/144"
      ]
     },
     "execution_count": 45,
     "metadata": {},
     "output_type": "execute_result"
    }
   ],
   "source": [
    "table = pd.DataFrame(index=[4, 6, 8, 12])\n",
    "table['prior'] = Fraction(1, 4)\n",
    "table['likelihood1'] = 0, Fraction(1, 6), Fraction(1, 8), Fraction(1, 12)\n",
    "table['likelihood2'] = 0, Fraction(1, 6), Fraction(1, 8), Fraction(1, 12)\n",
    "table['likelihood'] = table['likelihood1'] * table['likelihood2']\n",
    "table"
   ]
  },
  {
   "cell_type": "code",
   "execution_count": 13,
   "id": "577461df-d38f-4972-9c8c-0e2d6a1caab4",
   "metadata": {},
   "outputs": [],
   "source": [
    "def update(table):\n",
    "    \"\"\"Compute the posterior probabilities.\"\"\"\n",
    "    table['unnorm'] = table['prior'] * table['likelihood']\n",
    "    prob_data = table['unnorm'].sum()\n",
    "    table['posterior'] = table['unnorm'] / prob_data\n",
    "    return prob_data"
   ]
  },
  {
   "cell_type": "code",
   "execution_count": 47,
   "id": "0911d333-6ff9-4f26-9b09-0fe5397d14ab",
   "metadata": {},
   "outputs": [
    {
     "data": {
      "text/html": [
       "<div>\n",
       "<style scoped>\n",
       "    .dataframe tbody tr th:only-of-type {\n",
       "        vertical-align: middle;\n",
       "    }\n",
       "\n",
       "    .dataframe tbody tr th {\n",
       "        vertical-align: top;\n",
       "    }\n",
       "\n",
       "    .dataframe thead th {\n",
       "        text-align: right;\n",
       "    }\n",
       "</style>\n",
       "<table border=\"1\" class=\"dataframe\">\n",
       "  <thead>\n",
       "    <tr style=\"text-align: right;\">\n",
       "      <th></th>\n",
       "      <th>prior</th>\n",
       "      <th>likelihood1</th>\n",
       "      <th>likelihood2</th>\n",
       "      <th>likelihood</th>\n",
       "      <th>unnorm</th>\n",
       "      <th>posterior</th>\n",
       "    </tr>\n",
       "  </thead>\n",
       "  <tbody>\n",
       "    <tr>\n",
       "      <th>4</th>\n",
       "      <td>1/4</td>\n",
       "      <td>0</td>\n",
       "      <td>0</td>\n",
       "      <td>0</td>\n",
       "      <td>0</td>\n",
       "      <td>0</td>\n",
       "    </tr>\n",
       "    <tr>\n",
       "      <th>6</th>\n",
       "      <td>1/4</td>\n",
       "      <td>1/6</td>\n",
       "      <td>1/6</td>\n",
       "      <td>1/36</td>\n",
       "      <td>1/144</td>\n",
       "      <td>16/29</td>\n",
       "    </tr>\n",
       "    <tr>\n",
       "      <th>8</th>\n",
       "      <td>1/4</td>\n",
       "      <td>1/8</td>\n",
       "      <td>1/8</td>\n",
       "      <td>1/64</td>\n",
       "      <td>1/256</td>\n",
       "      <td>9/29</td>\n",
       "    </tr>\n",
       "    <tr>\n",
       "      <th>12</th>\n",
       "      <td>1/4</td>\n",
       "      <td>1/12</td>\n",
       "      <td>1/12</td>\n",
       "      <td>1/144</td>\n",
       "      <td>1/576</td>\n",
       "      <td>4/29</td>\n",
       "    </tr>\n",
       "  </tbody>\n",
       "</table>\n",
       "</div>"
      ],
      "text/plain": [
       "   prior likelihood1 likelihood2 likelihood unnorm posterior\n",
       "4    1/4           0           0          0      0         0\n",
       "6    1/4         1/6         1/6       1/36  1/144     16/29\n",
       "8    1/4         1/8         1/8       1/64  1/256      9/29\n",
       "12   1/4        1/12        1/12      1/144  1/576      4/29"
      ]
     },
     "execution_count": 47,
     "metadata": {},
     "output_type": "execute_result"
    }
   ],
   "source": [
    "prob_data2=update(table)\n",
    "table"
   ]
  },
  {
   "cell_type": "code",
   "execution_count": 49,
   "id": "395be03f-82d8-43e9-adea-6944eaa87d1b",
   "metadata": {},
   "outputs": [
    {
     "data": {
      "text/html": [
       "<div>\n",
       "<style scoped>\n",
       "    .dataframe tbody tr th:only-of-type {\n",
       "        vertical-align: middle;\n",
       "    }\n",
       "\n",
       "    .dataframe tbody tr th {\n",
       "        vertical-align: top;\n",
       "    }\n",
       "\n",
       "    .dataframe thead th {\n",
       "        text-align: right;\n",
       "    }\n",
       "</style>\n",
       "<table border=\"1\" class=\"dataframe\">\n",
       "  <thead>\n",
       "    <tr style=\"text-align: right;\">\n",
       "      <th></th>\n",
       "      <th>prior</th>\n",
       "      <th>likelihood1</th>\n",
       "      <th>likelihood2</th>\n",
       "      <th>likelihood</th>\n",
       "      <th>unnorm</th>\n",
       "      <th>posterior</th>\n",
       "      <th>posterior_float</th>\n",
       "    </tr>\n",
       "  </thead>\n",
       "  <tbody>\n",
       "    <tr>\n",
       "      <th>4</th>\n",
       "      <td>1/4</td>\n",
       "      <td>0</td>\n",
       "      <td>0</td>\n",
       "      <td>0</td>\n",
       "      <td>0</td>\n",
       "      <td>0</td>\n",
       "      <td>0.0000</td>\n",
       "    </tr>\n",
       "    <tr>\n",
       "      <th>6</th>\n",
       "      <td>1/4</td>\n",
       "      <td>1/6</td>\n",
       "      <td>1/6</td>\n",
       "      <td>1/36</td>\n",
       "      <td>1/144</td>\n",
       "      <td>16/29</td>\n",
       "      <td>0.5517</td>\n",
       "    </tr>\n",
       "    <tr>\n",
       "      <th>8</th>\n",
       "      <td>1/4</td>\n",
       "      <td>1/8</td>\n",
       "      <td>1/8</td>\n",
       "      <td>1/64</td>\n",
       "      <td>1/256</td>\n",
       "      <td>9/29</td>\n",
       "      <td>0.3103</td>\n",
       "    </tr>\n",
       "    <tr>\n",
       "      <th>12</th>\n",
       "      <td>1/4</td>\n",
       "      <td>1/12</td>\n",
       "      <td>1/12</td>\n",
       "      <td>1/144</td>\n",
       "      <td>1/576</td>\n",
       "      <td>4/29</td>\n",
       "      <td>0.1379</td>\n",
       "    </tr>\n",
       "  </tbody>\n",
       "</table>\n",
       "</div>"
      ],
      "text/plain": [
       "   prior likelihood1 likelihood2 likelihood unnorm posterior  posterior_float\n",
       "4    1/4           0           0          0      0         0           0.0000\n",
       "6    1/4         1/6         1/6       1/36  1/144     16/29           0.5517\n",
       "8    1/4         1/8         1/8       1/64  1/256      9/29           0.3103\n",
       "12   1/4        1/12        1/12      1/144  1/576      4/29           0.1379"
      ]
     },
     "execution_count": 49,
     "metadata": {},
     "output_type": "execute_result"
    }
   ],
   "source": [
    "table['posterior_float'] = table['posterior'].apply(lambda x: round(float(x), 4))\n",
    "table"
   ]
  },
  {
   "cell_type": "markdown",
   "id": "3271725b",
   "metadata": {},
   "source": [
    "**2.** Ehlers-Danlos Syndrome (EDS) is a genetic connective tissue disorder that occurs in 1 of\n",
    "every 5,000 people in a given population. The primary symptoms of EDS can include hypermobile\n",
    "joints, stretchy skin, and chronic joint pain. About 65\\% of people with EDS experience\n",
    "at least one of these symptoms, while only 5\\% of people without EDS exhibit these symptoms.\n",
    "Build Bayesian tables and answer the questions:\n",
    "\n",
    "(i) If a person exhibits at least one of these symptoms, what are the odds that they have Ehlers-\n",
    "Danlos Syndrome? What is the Bayes factor of this data?"
   ]
  },
  {
   "cell_type": "code",
   "execution_count": 52,
   "id": "5b4c2e17-d2dd-400b-8702-937ed2f1b129",
   "metadata": {},
   "outputs": [],
   "source": [
    "import pandas as pd "
   ]
  },
  {
   "cell_type": "code",
   "execution_count": 87,
   "id": "d5d6febd-35be-4068-afbc-26bc01f88dec",
   "metadata": {},
   "outputs": [
    {
     "ename": "SyntaxError",
     "evalue": "invalid decimal literal (2780909164.py, line 2)",
     "output_type": "error",
     "traceback": [
      "\u001b[0;36m  Cell \u001b[0;32mIn[87], line 2\u001b[0;36m\u001b[0m\n\u001b[0;31m    table['prior'] =  1/5000 ,  1-1/50001table['likelihood'] = 0.65 ,  0.05\u001b[0m\n\u001b[0m                                        ^\u001b[0m\n\u001b[0;31mSyntaxError\u001b[0m\u001b[0;31m:\u001b[0m invalid decimal literal\n"
     ]
    }
   ],
   "source": [
    "table = pd.DataFrame(index=['H', 'Hc'])\n",
    "table['prior'] =  1/5000 ,  1-1/50001table['likelihood'] = 0.65 ,  0.05"
   ]
  },
  {
   "cell_type": "code",
   "execution_count": 58,
   "id": "32409075-3a27-4d15-998a-1fe839235e29",
   "metadata": {},
   "outputs": [],
   "source": [
    "def update(table):\n",
    "    \"\"\"Compute the posterior probabilities.\"\"\"\n",
    "    table['unnorm'] = table['prior'] * table['likelihood']\n",
    "    prob_data = table['unnorm'].sum()\n",
    "    table['posterior'] = table['unnorm'] / prob_data\n",
    "    return prob_data"
   ]
  },
  {
   "cell_type": "code",
   "execution_count": 60,
   "id": "c793856e-dd7b-4e7b-984a-c2f3f592d53d",
   "metadata": {},
   "outputs": [
    {
     "data": {
      "text/html": [
       "<div>\n",
       "<style scoped>\n",
       "    .dataframe tbody tr th:only-of-type {\n",
       "        vertical-align: middle;\n",
       "    }\n",
       "\n",
       "    .dataframe tbody tr th {\n",
       "        vertical-align: top;\n",
       "    }\n",
       "\n",
       "    .dataframe thead th {\n",
       "        text-align: right;\n",
       "    }\n",
       "</style>\n",
       "<table border=\"1\" class=\"dataframe\">\n",
       "  <thead>\n",
       "    <tr style=\"text-align: right;\">\n",
       "      <th></th>\n",
       "      <th>prior</th>\n",
       "      <th>likelihood</th>\n",
       "      <th>unnorm</th>\n",
       "      <th>posterior</th>\n",
       "    </tr>\n",
       "  </thead>\n",
       "  <tbody>\n",
       "    <tr>\n",
       "      <th>H</th>\n",
       "      <td>0.000067</td>\n",
       "      <td>0.65</td>\n",
       "      <td>0.000043</td>\n",
       "      <td>0.000866</td>\n",
       "    </tr>\n",
       "    <tr>\n",
       "      <th>Hc</th>\n",
       "      <td>0.999933</td>\n",
       "      <td>0.05</td>\n",
       "      <td>0.049997</td>\n",
       "      <td>0.999134</td>\n",
       "    </tr>\n",
       "  </tbody>\n",
       "</table>\n",
       "</div>"
      ],
      "text/plain": [
       "       prior  likelihood    unnorm  posterior\n",
       "H   0.000067        0.65  0.000043   0.000866\n",
       "Hc  0.999933        0.05  0.049997   0.999134"
      ]
     },
     "execution_count": 60,
     "metadata": {},
     "output_type": "execute_result"
    }
   ],
   "source": [
    "update(table)\n",
    "table"
   ]
  },
  {
   "cell_type": "markdown",
   "id": "8452ee8f-b6a1-469d-9e5d-47f739fdba14",
   "metadata": {},
   "source": [
    "Prior odds:"
   ]
  },
  {
   "cell_type": "code",
   "execution_count": 69,
   "id": "0a6b54c3-aee9-4fdd-94ca-50cc0228cb57",
   "metadata": {},
   "outputs": [
    {
     "data": {
      "text/plain": [
       "6.667111140742716e-05"
      ]
     },
     "execution_count": 69,
     "metadata": {},
     "output_type": "execute_result"
    }
   ],
   "source": [
    "prior_odds = table.loc['H','prior']/table.loc['Hc','prior']\n",
    "prior_odds\n"
   ]
  },
  {
   "cell_type": "markdown",
   "id": "297d9440-7281-412e-ad3a-ec08bd26a644",
   "metadata": {},
   "source": [
    "(ii) Let’s add Chronic fatigue as a new symptom detected in that person to the Bayesian analysis.\n",
    "The incidence of Chronic Fatigue in people with EDS is 80\\% while while 10\\% of people of\n",
    "that population, without EDS, exhibit this symptom. Update the Bayesian table with this new\n",
    "evidence and find the new Bayes factor."
   ]
  }
 ],
 "metadata": {
  "kernelspec": {
   "display_name": "Python 3 (ipykernel)",
   "language": "python",
   "name": "python3"
  },
  "language_info": {
   "codemirror_mode": {
    "name": "ipython",
    "version": 3
   },
   "file_extension": ".py",
   "mimetype": "text/x-python",
   "name": "python",
   "nbconvert_exporter": "python",
   "pygments_lexer": "ipython3",
   "version": "3.12.4"
  }
 },
 "nbformat": 4,
 "nbformat_minor": 5
}
