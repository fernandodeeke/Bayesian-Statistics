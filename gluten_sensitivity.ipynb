{
  "nbformat": 4,
  "nbformat_minor": 0,
  "metadata": {
    "colab": {
      "provenance": [],
      "authorship_tag": "ABX9TyNIwyODtFQ7DTsJ6QOObWPY",
      "include_colab_link": true
    },
    "kernelspec": {
      "name": "python3",
      "display_name": "Python 3"
    },
    "language_info": {
      "name": "python"
    }
  },
  "cells": [
    {
      "cell_type": "markdown",
      "metadata": {
        "id": "view-in-github",
        "colab_type": "text"
      },
      "source": [
        "<a href=\"https://colab.research.google.com/github/fernandodeeke/Bayesian-Statistics/blob/main/gluten_sensitivity.ipynb\" target=\"_parent\"><img src=\"https://colab.research.google.com/assets/colab-badge.svg\" alt=\"Open In Colab\"/></a>"
      ]
    },
    {
      "cell_type": "markdown",
      "source": [
        "<center><H2> </H2></center>\n",
        "<center><H2> Probability and Statistics</H2></center>\n",
        "<center><H4>Fernando Deeke Sasse<br></H4></center>\n",
        "<center><H4>Departamento de Matemática - CCT -  UDESC</H4></center>\n",
        "<center><H2>Adding results from different distributions</H2></center>"
      ],
      "metadata": {
        "id": "BEH6CHpMCG2P"
      }
    },
    {
      "cell_type": "markdown",
      "source": [
        "This section is based in chapter 6 of the textbook: A. Downey, Think Bayes 2nd ed., https://greenteapress.com/wp/think-bayes/"
      ],
      "metadata": {
        "id": "yETiJsgGBLTf"
      }
    },
    {
      "cell_type": "markdown",
      "source": [
        "Problem: 35 patients were examined in a double blinded test where they should distinguish flour with and without gluten, based on symptoms.\n",
        "\n",
        "Results:\n",
        "* 12 correctly identified  the gluten flour.\n",
        "* 17 wrongly identified  the gluten flour.\n",
        "* 6 were unable to distiguish.\n",
        "\n",
        "The paper's author claimed that \"Double blind gluten challenge induces symptom recurrence in just one third of patients\"."
      ],
      "metadata": {
        "id": "0z3aNOJl2_bI"
      }
    },
    {
      "cell_type": "markdown",
      "source": [
        "### Forward Analysis\n",
        "\n",
        "Suppose we know 10 out 35 patiens are sensitive to gluten (25 are not).\n",
        "\n",
        "Suppose also that people who are gluten sentitive have a 95% chance of correctly identifying the gluten flour and people who are not sentive have 40% chance of indentifying correctly the gluten flour (and a 60% chance of either choosing the wrong flour or failing to distinguish)\n"
      ],
      "metadata": {
        "id": "-QUj9t_o5PEC"
      }
    },
    {
      "cell_type": "code",
      "execution_count": null,
      "metadata": {
        "execution": {
          "iopub.execute_input": "2021-04-16T19:35:25.054803Z",
          "iopub.status.busy": "2021-04-16T19:35:25.054381Z",
          "iopub.status.idle": "2021-04-16T19:35:25.056675Z",
          "shell.execute_reply": "2021-04-16T19:35:25.056251Z"
        },
        "tags": [],
        "id": "vIO1QOUc74gW",
        "colab": {
          "base_uri": "https://localhost:8080/"
        },
        "outputId": "a481accc-456a-4b79-9e28-e1166e7b5911"
      },
      "outputs": [
        {
          "output_type": "stream",
          "name": "stdout",
          "text": [
            "Collecting empiricaldist\n",
            "  Downloading empiricaldist-0.7.5.tar.gz (12 kB)\n",
            "  Installing build dependencies ... \u001b[?25l\u001b[?25hdone\n",
            "  Getting requirements to build wheel ... \u001b[?25l\u001b[?25hdone\n",
            "  Preparing metadata (pyproject.toml) ... \u001b[?25l\u001b[?25hdone\n",
            "Building wheels for collected packages: empiricaldist\n",
            "  Building wheel for empiricaldist (pyproject.toml) ... \u001b[?25l\u001b[?25hdone\n",
            "  Created wheel for empiricaldist: filename=empiricaldist-0.7.5-py3-none-any.whl size=12469 sha256=c4827963e3882c2c9f1ccd06e2e97f45082bacd10f05f5d61bbf888beafec4ee\n",
            "  Stored in directory: /root/.cache/pip/wheels/0d/d0/ae/1ad4c7593703e55b2321b23b49d3b0d55261b59d7036d7045b\n",
            "Successfully built empiricaldist\n",
            "Installing collected packages: empiricaldist\n",
            "Successfully installed empiricaldist-0.7.5\n"
          ]
        }
      ],
      "source": [
        "# If we're running on Colab, install empiricaldist\n",
        "# https://pypi.org/project/empiricaldist/\n",
        "\n",
        "import sys\n",
        "IN_COLAB = 'google.colab' in sys.modules\n",
        "\n",
        "if IN_COLAB:\n",
        "    !pip install empiricaldist"
      ]
    },
    {
      "cell_type": "code",
      "execution_count": null,
      "metadata": {
        "execution": {
          "iopub.execute_input": "2021-04-16T19:35:25.060363Z",
          "iopub.status.busy": "2021-04-16T19:35:25.059859Z",
          "iopub.status.idle": "2021-04-16T19:35:25.061547Z",
          "shell.execute_reply": "2021-04-16T19:35:25.061891Z"
        },
        "tags": [],
        "id": "CSWEd3am74gX",
        "colab": {
          "base_uri": "https://localhost:8080/"
        },
        "outputId": "a34149de-9024-4481-d617-aa94fc3f3a78"
      },
      "outputs": [
        {
          "output_type": "stream",
          "name": "stdout",
          "text": [
            "Downloaded utils.py\n"
          ]
        }
      ],
      "source": [
        "# Get utils.py\n",
        "\n",
        "from os.path import basename, exists\n",
        "\n",
        "def download(url):\n",
        "    filename = basename(url)\n",
        "    if not exists(filename):\n",
        "        from urllib.request import urlretrieve\n",
        "        local, _ = urlretrieve(url, filename)\n",
        "        print('Downloaded ' + local)\n",
        "\n",
        "download('https://github.com/AllenDowney/ThinkBayes2/raw/master/soln/utils.py')"
      ]
    },
    {
      "cell_type": "code",
      "source": [
        "n = 35\n",
        "num_sensitive = 10\n",
        "num_not_sensitive = n - num_sensitive"
      ],
      "metadata": {
        "id": "IGoJiztD5JxD"
      },
      "execution_count": null,
      "outputs": []
    },
    {
      "cell_type": "code",
      "execution_count": null,
      "metadata": {
        "execution": {
          "iopub.execute_input": "2021-04-16T19:35:25.064750Z",
          "iopub.status.busy": "2021-04-16T19:35:25.064307Z",
          "iopub.status.idle": "2021-04-16T19:35:25.842409Z",
          "shell.execute_reply": "2021-04-16T19:35:25.841954Z"
        },
        "tags": [],
        "id": "r3aAzbRD74gX"
      },
      "outputs": [],
      "source": [
        "from utils import set_pyplot_params\n",
        "set_pyplot_params()"
      ]
    },
    {
      "cell_type": "markdown",
      "source": [],
      "metadata": {
        "id": "CXcnK2rC8Mrb"
      }
    },
    {
      "cell_type": "code",
      "source": [
        "from empiricaldist import Pmf\n",
        "import matplotlib.pyplot as plt"
      ],
      "metadata": {
        "id": "g8PvS_ZC8RSb"
      },
      "execution_count": null,
      "outputs": []
    },
    {
      "cell_type": "code",
      "source": [
        "from utils import decorate\n",
        "from utils import make_binomial"
      ],
      "metadata": {
        "id": "yZbKNCTb8e_N"
      },
      "execution_count": null,
      "outputs": []
    },
    {
      "cell_type": "code",
      "source": [
        "dist_sensitive = make_binomial(num_sensitive, 0.95)\n",
        "dist_not_sensitive = make_binomial(num_not_sensitive, 0.4)"
      ],
      "metadata": {
        "id": "hUQYmmQd8ltT"
      },
      "execution_count": null,
      "outputs": []
    },
    {
      "cell_type": "markdown",
      "source": [
        "Let us add the correct identifications of gluten for the two groups:"
      ],
      "metadata": {
        "id": "vnZHcQI89aXF"
      }
    },
    {
      "cell_type": "code",
      "source": [
        "dist_total = Pmf.add_dist(dist_sensitive, dist_not_sensitive)"
      ],
      "metadata": {
        "id": "xpGA8lYV9gP-"
      },
      "execution_count": null,
      "outputs": []
    },
    {
      "cell_type": "code",
      "source": [
        "dist_sensitive.plot(label = 'sensitive', ls = \"--\")\n",
        "dist_not_sensitive.plot(label = 'not sensitive', ls = \":\")\n",
        "dist_total.plot(label = 'total')\n",
        "\n",
        "decorate(xlabel = 'correct identifications', ylabel = 'probability',\n",
        "         title ='Gluten sensitivity')"
      ],
      "metadata": {
        "colab": {
          "base_uri": "https://localhost:8080/",
          "height": 487
        },
        "id": "ZHt1e7bc9rBe",
        "outputId": "b7dc0ef1-a6bc-41f4-831f-25a36c4eec50"
      },
      "execution_count": null,
      "outputs": [
        {
          "output_type": "display_data",
          "data": {
            "text/plain": [
              "<Figure size 640x480 with 1 Axes>"
            ],
            "image/png": "[encoded data removed]"
          },
          "metadata": {}
        }
      ]
    },
    {
      "cell_type": "markdown",
      "source": [
        "This is called the forward problem: given the number of sensitive people we can compute the distribution."
      ],
      "metadata": {
        "id": "oFCLwME--1Z0"
      }
    },
    {
      "cell_type": "markdown",
      "source": [
        "### Problems"
      ],
      "metadata": {
        "id": "odMdriNE_PeC"
      }
    },
    {
      "cell_type": "markdown",
      "source": [
        "**1.** Based on the textbook, solve the inverse problem: given the data, compute the posterior distribution of sensitive people.\n",
        "\n",
        "**2.** Solve problems 6-4 , 6-5, 6-6, 6-7 and 6-8 of the textbook."
      ],
      "metadata": {
        "id": "b0LpIT2p_Tky"
      }
    }
  ]
}